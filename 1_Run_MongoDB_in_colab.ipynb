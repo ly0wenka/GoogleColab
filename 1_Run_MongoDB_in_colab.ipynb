{
  "nbformat": 4,
  "nbformat_minor": 0,
  "metadata": {
    "colab": {
      "name": "1_Run_MongoDB_in_colab.ipynb",
      "provenance": [],
      "include_colab_link": true
    },
    "kernelspec": {
      "display_name": "Python 3",
      "language": "python",
      "name": "python3"
    }
  },
  "cells": [
    {
      "cell_type": "markdown",
      "metadata": {
        "id": "view-in-github",
        "colab_type": "text"
      },
      "source": [
        "<a href=\"https://colab.research.google.com/github/ly0wenka/GoogleColab/blob/main/1_Run_MongoDB_in_colab.ipynb\" target=\"_parent\"><img src=\"https://colab.research.google.com/assets/colab-badge.svg\" alt=\"Open In Colab\"/></a>"
      ]
    },
    {
      "metadata": {
        "id": "kOmt80VpVa2W"
      },
      "cell_type": "markdown",
      "source": [
        "# Introduction to MongoDB"
      ]
    },
    {
      "metadata": {
        "id": "nvKR9mh7Vkun"
      },
      "cell_type": "markdown",
      "source": [
        "MongoDB is a free and open-source database program, developed by [MongoDB Inc](https://www.mongodb.com/).\n",
        "Latest stable release is the 4.0.0  ( 21 June 2018 ), [here](https://www.mongodb.com/download-center#community) download the MongoDB community server."
      ]
    },
    {
      "metadata": {
        "id": "vM6ta952S2z2"
      },
      "cell_type": "markdown",
      "source": [
        "# Installing MongoDB in Google Colab"
      ]
    },
    {
      "metadata": {
        "id": "oy8y1i4jl-Ce"
      },
      "cell_type": "markdown",
      "source": [
        "Now, we are going to install MongoDB server in Google Colab with educative purpose.<br>\n",
        "Be aware that **all data will be deleted after 12 hours**.\n",
        "\n",
        "If you need a persistent MongoDB server, you need to install it locally, download MongoDB community server (free) from [here](http://www.google.com/search?q=mongodb+download+community+server&btnI)\n"
      ]
    },
    {
      "cell_type": "code",
      "source": [
        "%%bash\n",
        "lsb_release -a\n",
        "mongodb-linux-x86_64-ubuntu2204-7.0.4/bin/mongod --help\n",
        "dpkg -l | grep libssl"
      ],
      "metadata": {
        "id": "ddbaSj6L44dw",
        "outputId": "3e14c76c-c149-4182-eb07-0c29130a6d63",
        "colab": {
          "base_uri": "https://localhost:8080/"
        }
      },
      "execution_count": 20,
      "outputs": [
        {
          "output_type": "stream",
          "name": "stdout",
          "text": [
            "Distributor ID:\tUbuntu\n",
            "Description:\tUbuntu 22.04.3 LTS\n",
            "Release:\t22.04\n",
            "Codename:\tjammy\n",
            "Options:\n",
            "  --networkMessageCompressors arg (=snappy,zstd,zlib)\n",
            "                                        Comma-separated list of compressors to \n",
            "                                        use for network messages\n",
            "\n",
            "General options:\n",
            "  -h [ --help ]                         Show this usage information\n",
            "  --version                             Show version information\n",
            "  -f [ --config ] arg                   Configuration file specifying \n",
            "                                        additional options\n",
            "  --configExpand arg                    Process expansion directives in config \n",
            "                                        file (none, exec, rest)\n",
            "  --port arg                            Specify port number - 27017 by default\n",
            "  --ipv6                                Enable IPv6 support (disabled by \n",
            "                                        default)\n",
            "  --listenBacklog arg (=4096)           Set socket listen backlog size\n",
            "  --maxConns arg (=1000000)             Max number of simultaneous connections\n",
            "  --pidfilepath arg                     Full path to pidfile (if not set, no \n",
            "                                        pidfile is created)\n",
            "  --timeZoneInfo arg                    Full path to time zone info directory, \n",
            "                                        e.g. /usr/share/zoneinfo\n",
            "  --nounixsocket                        Disable listening on unix sockets\n",
            "  --unixSocketPrefix arg                Alternative directory for UNIX domain \n",
            "                                        sockets (defaults to /tmp)\n",
            "  --filePermissions arg                 Permissions to set on UNIX domain \n",
            "                                        socket file - 0700 by default\n",
            "  --fork                                Fork server process\n",
            "  -v [ --verbose ] [=arg(=v)]           Be more verbose (include multiple times\n",
            "                                        for more verbosity e.g. -vvvvv)\n",
            "  --quiet                               Quieter output\n",
            "  --logpath arg                         Log file to send write to instead of \n",
            "                                        stdout - has to be a file, not \n",
            "                                        directory\n",
            "  --syslog                              Log to system's syslog facility instead\n",
            "                                        of file or stdout\n",
            "  --syslogFacility arg                  syslog facility used for mongodb syslog\n",
            "                                        message\n",
            "  --logappend                           Append to logpath instead of \n",
            "                                        over-writing\n",
            "  --logRotate arg                       Set the log rotation behavior \n",
            "                                        (rename|reopen)\n",
            "  --timeStampFormat arg                 Desired format for timestamps in log \n",
            "                                        messages. One of iso8601-utc or \n",
            "                                        iso8601-local\n",
            "  --setParameter arg                    Set a configurable parameter\n",
            "  --bind_ip arg                         Comma separated list of ip addresses to\n",
            "                                        listen on - localhost by default\n",
            "  --bind_ip_all                         Bind to all ip addresses\n",
            "  --noauth                              Run without security\n",
            "  --transitionToAuth                    For rolling access control upgrade. \n",
            "                                        Attempt to authenticate over outgoing \n",
            "                                        connections and proceed regardless of \n",
            "                                        success. Accept incoming connections \n",
            "                                        with or without authentication.\n",
            "  --slowms arg (=100)                   Value of slow for profile and console \n",
            "                                        log\n",
            "  --slowOpSampleRate arg (=1)           Fraction of slow ops to include in the \n",
            "                                        profile and console log\n",
            "  --profileFilter arg                   Query predicate to control which \n",
            "                                        operations are logged and profiled\n",
            "  --auth                                Run with security\n",
            "  --clusterIpSourceAllowlist arg        Network CIDR specification of permitted\n",
            "                                        origin for `__system` access\n",
            "  --profile arg                         0=off 1=slow, 2=all\n",
            "  --cpu                                 Periodically show cpu and iowait \n",
            "                                        utilization\n",
            "  --sysinfo                             Print some diagnostic system \n",
            "                                        information\n",
            "  --noscripting                         Disable scripting engine\n",
            "  --notablescan                         Do not allow table scans\n",
            "  --shutdown                            Kill a running server (for init \n",
            "                                        scripts)\n",
            "  --keyFile arg                         Private key for cluster authentication\n",
            "  --clusterAuthMode arg                 Authentication mode used for cluster \n",
            "                                        authentication. Alternatives are \n",
            "                                        (keyFile|sendKeyFile|sendX509|x509)\n",
            "\n",
            "Replication options:\n",
            "  --oplogSize arg                       Size to use (in MB) for replication op \n",
            "                                        log. default is 5% of disk space (i.e. \n",
            "                                        large is good)\n",
            "\n",
            "Replica set options:\n",
            "  --replSet arg                         arg is <setname>[/<optionalseedhostlist\n",
            "                                        >]\n",
            "  --enableMajorityReadConcern [=arg(=1)] (=1)\n",
            "                                        Enables majority readConcern. \n",
            "                                        enableMajorityReadConcern=false is no \n",
            "                                        longer supported\n",
            "\n",
            "Serverless mode:\n",
            "  --serverless arg                      Serverless mode implies replication is \n",
            "                                        enabled, cannot be used with replSet or\n",
            "                                        replSetName.\n",
            "\n",
            "Sharding options:\n",
            "  --configsvr                           Declare this is a config db of a \n",
            "                                        cluster; default port 27019; default \n",
            "                                        dir /data/configdb\n",
            "  --shardsvr                            Declare this is a shard db of a \n",
            "                                        cluster; default port 27018\n",
            "\n",
            "Storage options:\n",
            "  --storageEngine arg                   What storage engine to use - defaults \n",
            "                                        to wiredTiger if no data files present\n",
            "  --dbpath arg                          Directory for datafiles - defaults to \n",
            "                                        /data/db\n",
            "  --directoryperdb                      Each database will be stored in a \n",
            "                                        separate directory\n",
            "  --syncdelay arg (=60)                 Seconds between disk syncs\n",
            "  --journalCommitInterval arg (=100)    how often to group/batch commit (ms)\n",
            "  --upgrade                             Upgrade db if needed\n",
            "  --repair                              Run repair on all dbs\n",
            "  --restore                             This should only be used when restoring\n",
            "                                        from a backup. Mongod will behave \n",
            "                                        differently by handling collections \n",
            "                                        with missing data files, allowing \n",
            "                                        database renames, skipping oplog \n",
            "                                        entries for collections not restored \n",
            "                                        and more.\n",
            "  --oplogMinRetentionHours arg (=0)     Minimum number of hours to preserve in \n",
            "                                        the oplog. Default is 0 (turned off). \n",
            "                                        Fractions are allowed (e.g. 1.5 hours)\n",
            "\n",
            "AWS IAM Options:\n",
            "  --awsIamSessionToken arg              AWS Session Token for temporary \n",
            "                                        credentials\n",
            "\n",
            "TLS Options:\n",
            "  --tlsOnNormalPorts                    Use TLS on configured ports\n",
            "  --tlsMode arg                         Set the TLS operation mode \n",
            "                                        (disabled|allowTLS|preferTLS|requireTLS\n",
            "                                        )\n",
            "  --tlsCertificateKeyFile arg           Certificate and key file for TLS. \n",
            "                                        Certificate is presented in response to\n",
            "                                        inbound connections always. Certificate\n",
            "                                        is also presented for outbound \n",
            "                                        connections if tlsClusterFile is not \n",
            "                                        specified.\n",
            "  --tlsCertificateKeyFilePassword arg   Password to unlock key in the TLS \n",
            "                                        certificate key file\n",
            "  --tlsClusterFile arg                  Certificate and key file for internal \n",
            "                                        TLS authentication. Certificate is \n",
            "                                        presented on outbound connections if \n",
            "                                        specified.\n",
            "  --tlsClusterPassword arg              Internal authentication key file \n",
            "                                        password\n",
            "  --tlsCAFile arg                       Certificate Authority file for TLS. \n",
            "                                        Used to verify remote certificates \n",
            "                                        presented in response to outbound \n",
            "                                        connections. Also used to verify remote\n",
            "                                        certificates from inbound connections \n",
            "                                        if tlsClusterCAFile is not specified.\n",
            "  --tlsClusterCAFile arg                CA used for verifying remotes during \n",
            "                                        inbound connections\n",
            "  --tlsCRLFile arg                      Certificate Revocation List file for \n",
            "                                        TLS\n",
            "  --tlsDisabledProtocols arg            Comma separated list of TLS protocols \n",
            "                                        to disable [TLS1_0,TLS1_1,TLS1_2,TLS1_3\n",
            "                                        ]\n",
            "  --tlsAllowConnectionsWithoutCertificates \n",
            "                                        Allow client to connect without \n",
            "                                        presenting a certificate\n",
            "  --tlsAllowInvalidHostnames            Allow server certificates to provide \n",
            "                                        non-matching hostnames\n",
            "  --tlsAllowInvalidCertificates         Allow connections to servers with \n",
            "                                        invalid certificates\n",
            "  --tlsLogVersions arg                  Comma separated list of TLS protocols \n",
            "                                        to log on connect [TLS1_0,TLS1_1,TLS1_2\n",
            "                                        ,TLS1_3]\n",
            "  --tlsClusterAuthX509ExtensionValue arg\n",
            "                                        If specified, clients who expect to be \n",
            "                                        regarded as cluster members must \n",
            "                                        present a valid X.509 certificate \n",
            "                                        containing an X.509 extension for OID \n",
            "                                        1.3.6.1.4.1.34601.2.1.2 which contains \n",
            "                                        the specified value.\n",
            "  --tlsClusterAuthX509Attributes arg    If specified, clients performing X.509 \n",
            "                                        authentication must present a \n",
            "                                        certificate with a  subject name with \n",
            "                                        the exact attributes and values \n",
            "                                        provided in this config option to be  \n",
            "                                        treated as peer cluster nodes.\n",
            "\n",
            "WiredTiger options:\n",
            "  --wiredTigerCacheSizeGB arg           Maximum amount of memory to allocate \n",
            "                                        for cache; Defaults to 1/2 of physical \n",
            "                                        RAM\n",
            "  --zstdDefaultCompressionLevel arg (=6)\n",
            "                                        Default compression level for zstandard\n",
            "                                        compressor\n",
            "  --wiredTigerJournalCompressor arg (=snappy)\n",
            "                                        Use a compressor for log records \n",
            "                                        [none|snappy|zlib|zstd]\n",
            "  --wiredTigerDirectoryForIndexes       Put indexes and data in different \n",
            "                                        directories\n",
            "  --wiredTigerCollectionBlockCompressor arg (=snappy)\n",
            "                                        Block compression algorithm for \n",
            "                                        collection data [none|snappy|zlib|zstd]\n",
            "  --wiredTigerIndexPrefixCompression arg (=1)\n",
            "                                        Use prefix compression on row-store \n",
            "                                        leaf pages\n",
            "\n",
            "ii  libssl-dev:amd64                          3.0.2-0ubuntu1.12                       amd64        Secure Sockets Layer toolkit - development files\n",
            "ii  libssl3:amd64                             3.0.2-0ubuntu1.12                       amd64        Secure Sockets Layer toolkit - shared libraries\n"
          ]
        },
        {
          "output_type": "stream",
          "name": "stderr",
          "text": [
            "No LSB modules are available.\n"
          ]
        }
      ]
    },
    {
      "metadata": {
        "id": "d_W8Zhl_nYBA",
        "colab": {
          "base_uri": "https://localhost:8080/"
        },
        "outputId": "4254c475-c74b-4701-992b-6c9473da7b64"
      },
      "cell_type": "code",
      "source": [
        "# MongoDB download and installation\n",
        "!wget https://fastdl.mongodb.org/linux/mongodb-linux-x86_64-ubuntu2204-7.0.4.tgz  # Downloads MongoDB from official repository\n",
        "!tar xfv mongodb-linux-x86_64-ubuntu2204-7.0.4.tgz     # Unpack compressed file\n",
        "!rm mongodb-linux-x86_64-ubuntu2204-7.0.4.tgz          # Removes downloaded file\n",
        "\n",
        "# Default location of database is \"/data/db\" folder\n",
        "!mkdir /data                                          # data folder creation\n",
        "!mkdir /data/db                                       # db folder creation inside data"
      ],
      "execution_count": 14,
      "outputs": [
        {
          "output_type": "stream",
          "name": "stdout",
          "text": [
            "--2023-12-05 07:42:52--  https://fastdl.mongodb.org/linux/mongodb-linux-x86_64-ubuntu2204-7.0.4.tgz\n",
            "Resolving fastdl.mongodb.org (fastdl.mongodb.org)... 52.85.247.37, 52.85.247.67, 52.85.247.34, ...\n",
            "Connecting to fastdl.mongodb.org (fastdl.mongodb.org)|52.85.247.37|:443... connected.\n",
            "HTTP request sent, awaiting response... 200 OK\n",
            "Length: 84802757 (81M) [application/gzip]\n",
            "Saving to: ‘mongodb-linux-x86_64-ubuntu2204-7.0.4.tgz’\n",
            "\n",
            "mongodb-linux-x86_6 100%[===================>]  80.87M   212MB/s    in 0.4s    \n",
            "\n",
            "2023-12-05 07:42:53 (212 MB/s) - ‘mongodb-linux-x86_64-ubuntu2204-7.0.4.tgz’ saved [84802757/84802757]\n",
            "\n",
            "mongodb-linux-x86_64-ubuntu2204-7.0.4/LICENSE-Community.txt\n",
            "mongodb-linux-x86_64-ubuntu2204-7.0.4/MPL-2\n",
            "mongodb-linux-x86_64-ubuntu2204-7.0.4/README\n",
            "mongodb-linux-x86_64-ubuntu2204-7.0.4/THIRD-PARTY-NOTICES\n",
            "mongodb-linux-x86_64-ubuntu2204-7.0.4/bin/install_compass\n",
            "mongodb-linux-x86_64-ubuntu2204-7.0.4/bin/mongod\n",
            "mongodb-linux-x86_64-ubuntu2204-7.0.4/bin/mongos\n"
          ]
        }
      ]
    },
    {
      "metadata": {
        "id": "fYbMpReoBlQj",
        "colab": {
          "base_uri": "https://localhost:8080/"
        },
        "outputId": "74a99cf8-1615-4d14-db20-28dd9824c2f5"
      },
      "cell_type": "code",
      "source": [
        "# Runs mongoDB server\n",
        "#!mongodb-linux-x86_64-ubuntu2204-7.0.4/bin/mongod --nojournal --dbpath GDrive/My\\ Drive/data/db\n",
        "!mongodb-linux-x86_64-ubuntu2204-7.0.4/bin/mongod --dbpath /data/db\n",
        "\n",
        "#!mongodb-linux-x86_64-ubuntu2204-7.0.4/bin/mongod --nojournal --port 27017 --dbpath=/data/db --fork --logpath=/data/db/mongodb.log\n",
        "\n",
        "#  --nojournal : disables journal and allows to run Mongo in Colab enviroment (reducing memory usage ) (Warning!!! Journal prevents incompleted data writes and data corruption)\n",
        "#  --port      : defines the port where mongoDB will run\n",
        "#  --dbpath    : defines the location of database folder, by default : /data/db\n",
        "#  --fork      : runs mongoDB in background\n",
        "#  --logpath   : defines the location and name of log file, by default : /data/db/mongodb.log\n",
        "#  --directoryperdb : mongodb will store databases in folder structure\n",
        "#  --wiredTigerDirectoryForIndexes : mongodb will store collections and indexes in folder structure\n",
        "#                                    (allows to create simbolic links and store collections and indexes in independent disks)"
      ],
      "execution_count": 21,
      "outputs": [
        {
          "output_type": "stream",
          "name": "stdout",
          "text": [
            "Error parsing command line: unrecognised option '--nojournal'\n",
            "try 'mongodb-linux-x86_64-ubuntu2204-7.0.4/bin/mongod --help' for more information\n"
          ]
        }
      ]
    },
    {
      "metadata": {
        "id": "8IxGGMVFnWgx"
      },
      "cell_type": "markdown",
      "source": [
        "## Congratulations!!  MongoDB server should be running.\n",
        "Find additional notebooks to learn pymongo in http://www.github.com/giffy"
      ]
    },
    {
      "metadata": {
        "id": "2Tav0v_jBmgV",
        "colab": {
          "base_uri": "https://localhost:8080/"
        },
        "outputId": "3e54707d-f8f6-4034-ff46-4759dc153ba7"
      },
      "cell_type": "code",
      "source": [
        "## Check server stats\n",
        "!mongodb-linux-x86_64-ubuntu2204-7.0.4/bin/mongostat"
      ],
      "execution_count": 19,
      "outputs": [
        {
          "output_type": "stream",
          "name": "stdout",
          "text": [
            "/bin/bash: line 1: mongodb-linux-x86_64-ubuntu2204-7.0.4/bin/mongostat: No such file or directory\n"
          ]
        }
      ]
    },
    {
      "metadata": {
        "id": "9nbj7q7wtn42",
        "colab": {
          "base_uri": "https://localhost:8080/"
        },
        "outputId": "16d8e522-7df5-4566-dcb9-ba9c7e165df2"
      },
      "cell_type": "code",
      "source": [
        "## Shutdown mongoDB server\n",
        "!mongodb-linux-x86_64-ubuntu2204-7.0.4/bin/mongo admin --eval 'db.shutdownServer()'"
      ],
      "execution_count": 4,
      "outputs": [
        {
          "output_type": "stream",
          "name": "stdout",
          "text": [
            "mongodb-linux-x86_64-debian71-3.0.15/bin/mongo: error while loading shared libraries: libssl.so.1.0.0: cannot open shared object file: No such file or directory\n"
          ]
        }
      ]
    }
  ]
}